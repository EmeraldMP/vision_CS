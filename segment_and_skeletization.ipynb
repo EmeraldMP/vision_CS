{
 "cells": [
  {
   "cell_type": "markdown",
   "metadata": {},
   "source": [
    "# Project Vision: Human Image Segmentation and Skeleton Extraction\n",
    "## Team Members: Francisco Garcia and Melanie Pacheco\n",
    "\n",
    "We aim to tackle the task of human image segmentation and skeleton extraction. Our goal is to develop an algorithm that can segment human shapes in images, creating masks, and then extract the skeleton of the important body parts.\n",
    "\n",
    "### Overview\n",
    "In this project, we are focusing on the critical task of understanding human anatomy from images. This involves two main steps:\n",
    "\n",
    "1. **Human Image Segmentation**: We aim to develop a model that can accurately identify and segment human shapes within images. This process involves creating masks that delineate the boundaries of the human body.\n",
    "\n",
    "2. **Skeleton Extraction**: Once we have segmented the human shape, our next objective is to extract the skeleton of the significant body parts. This skeleton provides a structural representation of the human body, highlighting key joints and limbs.\n",
    "\n",
    "### How to run it using main.py\n",
    "\n",
    "In this file you can see the step by step implementation and explanation of the steps. But if you want to run it in terminal you can use\n",
    "\n",
    "```python:\n",
    "python main.py\n",
    "```\n",
    "In the main.py file, pass the path of the image to ```img_path``` variable, and set the ```display_img``` variable to True for diplaying each step."
   ]
  },
  {
   "cell_type": "markdown",
   "metadata": {},
   "source": [
    "## Pipeline Explanation"
   ]
  },
  {
   "cell_type": "markdown",
   "metadata": {},
   "source": [
    "**Library import and setup**"
   ]
  },
  {
   "cell_type": "code",
   "execution_count": 1,
   "metadata": {},
   "outputs": [],
   "source": [
    "import cv2\n",
    "import numpy as np\n",
    "import matplotlib.pyplot as plt\n",
    "import matplotlib.image as mpimg\n",
    "\n",
    "from scipy.ndimage import distance_transform_edt\n",
    "from skimage.morphology import skeletonize\n",
    "from skimage import data, segmentation, color\n",
    "from skimage import graph\n",
    "from scipy.ndimage import convolve\n",
    "from scipy.spatial.distance import pdist, squareform\n",
    "from scipy.sparse import csr_matrix\n",
    "from scipy.sparse.csgraph import minimum_spanning_tree\n",
    "from sklearn.cluster import KMeans\n",
    "from sklearn.cluster import DBSCAN\n",
    "from matplotlib import pyplot\n",
    "from numpy import unique\n",
    "from numpy import where"
   ]
  },
  {
   "cell_type": "markdown",
   "metadata": {},
   "source": [
    "### Human Image Segmentation"
   ]
  },
  {
   "cell_type": "code",
   "execution_count": 3,
   "metadata": {},
   "outputs": [],
   "source": [
    "def display_image(img,  title='Image', gray=False):\n",
    "    # Display\n",
    "    plt.imshow(img)\n",
    "\n",
    "    # plot if the image is gray\n",
    "    if gray:\n",
    "        plt.gray()\n",
    "\n",
    "    plt.title(title)\n",
    "    plt.axis('off')\n",
    "    plt.show()"
   ]
  },
  {
   "cell_type": "markdown",
   "metadata": {},
   "source": [
    "### Skeleton Extration"
   ]
  },
  {
   "cell_type": "code",
   "execution_count": null,
   "metadata": {},
   "outputs": [],
   "source": []
  }
 ],
 "metadata": {
  "kernelspec": {
   "display_name": "vision",
   "language": "python",
   "name": "python3"
  },
  "language_info": {
   "codemirror_mode": {
    "name": "ipython",
    "version": 3
   },
   "file_extension": ".py",
   "mimetype": "text/x-python",
   "name": "python",
   "nbconvert_exporter": "python",
   "pygments_lexer": "ipython3",
   "version": "3.10.14"
  }
 },
 "nbformat": 4,
 "nbformat_minor": 2
}
